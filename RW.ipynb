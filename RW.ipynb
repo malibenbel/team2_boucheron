{
 "cells": [
  {
   "cell_type": "markdown",
   "metadata": {},
   "source": [
    "# RW"
   ]
  },
  {
   "cell_type": "code",
   "execution_count": 1,
   "metadata": {},
   "outputs": [],
   "source": [
    "from selenium import webdriver\n",
    "from selenium.webdriver.chrome.service import Service\n",
    "from selenium.webdriver.common.by import By\n",
    "from selenium.webdriver.chrome.options import Options\n",
    "from selenium.webdriver.common.action_chains import ActionChains\n",
    "from selenium.webdriver.common.keys import Keys\n",
    "from webdriver_manager.chrome import ChromeDriverManager\n",
    "import pandas as pd\n",
    "import time\n"
   ]
  },
  {
   "cell_type": "code",
   "execution_count": 2,
   "metadata": {},
   "outputs": [
    {
     "name": "stdout",
     "output_type": "stream",
     "text": [
      "No more 'See More Creations' button found.\n"
     ]
    },
    {
     "data": {
      "application/vnd.microsoft.datawrangler.viewer.v0+json": {
       "columns": [
        {
         "name": "index",
         "rawType": "int64",
         "type": "integer"
        },
        {
         "name": "Reference Code",
         "rawType": "object",
         "type": "string"
        },
        {
         "name": "Price",
         "rawType": "object",
         "type": "string"
        }
       ],
       "conversionMethod": "pd.DataFrame",
       "ref": "73a5fc94-0485-4dc7-bd9a-0686f4f259cd",
       "rows": [
        [
         "0",
         "ref ◌ WA015705",
         "€8,200"
        ],
        [
         "1",
         "ref ◌ WA015706",
         "€17,450"
        ],
        [
         "2",
         "ref ◌ WA015707",
         "€59,000"
        ],
        [
         "3",
         "ref ◌ WA015701",
         "€6,100"
        ],
        [
         "4",
         "ref ◌ WA015506",
         "€14,350"
        ]
       ],
       "shape": {
        "columns": 2,
        "rows": 5
       }
      },
      "text/html": [
       "<div>\n",
       "<style scoped>\n",
       "    .dataframe tbody tr th:only-of-type {\n",
       "        vertical-align: middle;\n",
       "    }\n",
       "\n",
       "    .dataframe tbody tr th {\n",
       "        vertical-align: top;\n",
       "    }\n",
       "\n",
       "    .dataframe thead th {\n",
       "        text-align: right;\n",
       "    }\n",
       "</style>\n",
       "<table border=\"1\" class=\"dataframe\">\n",
       "  <thead>\n",
       "    <tr style=\"text-align: right;\">\n",
       "      <th></th>\n",
       "      <th>Reference Code</th>\n",
       "      <th>Price</th>\n",
       "    </tr>\n",
       "  </thead>\n",
       "  <tbody>\n",
       "    <tr>\n",
       "      <th>0</th>\n",
       "      <td>ref ◌ WA015705</td>\n",
       "      <td>€8,200</td>\n",
       "    </tr>\n",
       "    <tr>\n",
       "      <th>1</th>\n",
       "      <td>ref ◌ WA015706</td>\n",
       "      <td>€17,450</td>\n",
       "    </tr>\n",
       "    <tr>\n",
       "      <th>2</th>\n",
       "      <td>ref ◌ WA015707</td>\n",
       "      <td>€59,000</td>\n",
       "    </tr>\n",
       "    <tr>\n",
       "      <th>3</th>\n",
       "      <td>ref ◌ WA015701</td>\n",
       "      <td>€6,100</td>\n",
       "    </tr>\n",
       "    <tr>\n",
       "      <th>4</th>\n",
       "      <td>ref ◌ WA015506</td>\n",
       "      <td>€14,350</td>\n",
       "    </tr>\n",
       "  </tbody>\n",
       "</table>\n",
       "</div>"
      ],
      "text/plain": [
       "   Reference Code    Price\n",
       "0  ref ◌ WA015705   €8,200\n",
       "1  ref ◌ WA015706  €17,450\n",
       "2  ref ◌ WA015707  €59,000\n",
       "3  ref ◌ WA015701   €6,100\n",
       "4  ref ◌ WA015506  €14,350"
      ]
     },
     "execution_count": 2,
     "metadata": {},
     "output_type": "execute_result"
    }
   ],
   "source": [
    "url = \"https://www.boucheron.com/fr_en/watches/all-watches.html?p={}&glCountry=FR&glCurrency=EUR\"\n",
    "\n",
    "# Set up Chrome options\n",
    "chrome_options = Options()\n",
    "chrome_options.add_argument(\"--headless\")  # Run in background\n",
    "chrome_options.add_argument(\"--disable-blink-features=AutomationControlled\")\n",
    "chrome_options.add_argument(\"start-maximized\")\n",
    "\n",
    "# Set up WebDriver\n",
    "driver = webdriver.Chrome(service=Service(ChromeDriverManager().install()), options=chrome_options)\n",
    "\n",
    "# Open the website\n",
    "url = \"https://www.boucheron.com/fr_en/watches/all-watches.html?p={}&glCountry=FR&glCurrency=EUR\"\n",
    "driver.get(url)\n",
    "\n",
    "# Wait for JavaScript to load\n",
    "time.sleep(5)\n",
    "\n",
    "# Keep clicking \"See More Creations\" until all products are loaded\n",
    "while True:\n",
    "    try:\n",
    "        see_more_button = driver.find_element(By.XPATH, \"//button[contains(text(), 'See more creations')]\")\n",
    "        driver.execute_script(\"arguments[0].scrollIntoView();\", see_more_button)\n",
    "        time.sleep(2)  # Wait for scroll\n",
    "        see_more_button.click()\n",
    "        print(\"Clicked 'See More Creations' button...\")\n",
    "        time.sleep(10)  # Allow more products to load\n",
    "    except:\n",
    "        print(\"No more 'See More Creations' button found.\")\n",
    "        break  # Exit the loop when the button disappears\n",
    "\n",
    "# Scroll down again to ensure all elements are loaded\n",
    "driver.execute_script(\"window.scrollTo(0, document.body.scrollHeight);\")\n",
    "time.sleep(10)  # Wait for final load\n",
    "\n",
    "# Find all product containers\n",
    "products = driver.find_elements(By.CLASS_NAME, \"product-item\")\n",
    "\n",
    "# Store extracted data\n",
    "watches = []\n",
    "\n",
    "for product in products:\n",
    "    try:\n",
    "        ref_code = product.find_element(By.XPATH, \".//span[contains(text(), 'ref')]\").text.replace(\"ref • \", \"\")\n",
    "    except:\n",
    "        ref_code = \"N/A\"\n",
    "    \n",
    "    try:\n",
    "        price = product.find_element(By.CLASS_NAME, \"price\").text\n",
    "    except:\n",
    "        price = \"N/A\"\n",
    "\n",
    "    watches.append({\"Reference Code\": ref_code, \"Price\": price})\n",
    "\n",
    "# Convert to DataFrame\n",
    "df = pd.DataFrame(watches)\n",
    "\n",
    "# Save data\n",
    "#df.to_csv(\"boucheron_watches.csv\", index=False)\n",
    "#print(f\"Scraped {len(df)} watches! Data saved to 'boucheron_watches.csv'.\")\n",
    "\n",
    "# Close the driver\n",
    "driver.quit()\n",
    "\n",
    "# Display results\n",
    "df.head()\n"
   ]
  }
 ],
 "metadata": {
  "kernelspec": {
   "display_name": "venv",
   "language": "python",
   "name": "python3"
  },
  "language_info": {
   "codemirror_mode": {
    "name": "ipython",
    "version": 3
   },
   "file_extension": ".py",
   "mimetype": "text/x-python",
   "name": "python",
   "nbconvert_exporter": "python",
   "pygments_lexer": "ipython3",
   "version": "3.10.11"
  }
 },
 "nbformat": 4,
 "nbformat_minor": 2
}
